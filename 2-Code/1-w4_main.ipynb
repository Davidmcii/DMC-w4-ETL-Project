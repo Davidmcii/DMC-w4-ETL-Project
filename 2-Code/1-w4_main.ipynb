{
 "cells": [
  {
   "cell_type": "code",
   "execution_count": 1,
   "metadata": {},
   "outputs": [],
   "source": [
    "import time\n",
    "import warnings \n",
    "warnings.filterwarnings('ignore')"
   ]
  },
  {
   "cell_type": "code",
   "execution_count": 29,
   "metadata": {},
   "outputs": [],
   "source": [
    "\n",
    "import requests as req\n",
    "from bs4 import BeautifulSoup as bs\n",
    "import pandas as pd"
   ]
  },
  {
   "cell_type": "code",
   "execution_count": 10,
   "metadata": {},
   "outputs": [
    {
     "data": {
      "text/plain": [
       "{\"municipio\":\"BADAJOZ Usagre\",\"mw\":499.82,\"instalaciones_cil\":1}"
      ]
     },
     "execution_count": 10,
     "metadata": {},
     "output_type": "execute_result"
    }
   ],
   "source": [
    "url = 'https://a.gusc.cartocdn.com/liquidaciones/api/v1/map/liquidaciones@7d13fb84@6bb560cb9ac70300b0009d5a5092fc6d:1650976279569/2/attributes/3499'\n",
    "\n",
    "html=req.get(url).text\n",
    "\n",
    "soup=bs(html, 'html.parser')\n",
    "soup\n",
    "\n"
   ]
  },
  {
   "cell_type": "code",
   "execution_count": 11,
   "metadata": {},
   "outputs": [
    {
     "data": {
      "text/plain": [
       "['{\"municipio\":\"A CORUÑA Ares\",\"mw\":0.005,\"instalaciones_cil\":1}',\n",
       " '{\"municipio\":\"A CORUÑA Arteixo\",\"mw\":0.015,\"instalaciones_cil\":2}',\n",
       " '{\"municipio\":\"A CORUÑA Arteixo\",\"mw\":0.024,\"instalaciones_cil\":2}',\n",
       " '{\"municipio\":\"A CORUÑA Arteixo\",\"mw\":0.1,\"instalaciones_cil\":1}',\n",
       " '{\"municipio\":\"A CORUÑA Arteixo\",\"mw\":0.003,\"instalaciones_cil\":1}',\n",
       " '{\"municipio\":\"A CORUÑA Arzúa\",\"mw\":0.005,\"instalaciones_cil\":1}',\n",
       " '{\"municipio\":\"A CORUÑA Arzúa\",\"mw\":0.003,\"instalaciones_cil\":1}',\n",
       " '{\"municipio\":\"A CORUÑA Arzúa\",\"mw\":0.015,\"instalaciones_cil\":2}',\n",
       " '{\"municipio\":\"A CORUÑA Bergondo\",\"mw\":0.005,\"instalaciones_cil\":1}',\n",
       " '{\"municipio\":\"A CORUÑA Bergondo\",\"mw\":0.02,\"instalaciones_cil\":1}',\n",
       " '{\"municipio\":\"A CORUÑA Betanzos\",\"mw\":0.005,\"instalaciones_cil\":1}',\n",
       " '{\"municipio\":\"A CORUÑA Boimorto\",\"mw\":0.005,\"instalaciones_cil\":1}',\n",
       " '{\"municipio\":\"A CORUÑA Boiro\",\"mw\":0.005,\"instalaciones_cil\":1}',\n",
       " '{\"municipio\":\"A CORUÑA Boiro\",\"mw\":0.006,\"instalaciones_cil\":1}',\n",
       " '{\"municipio\":\"A CORUÑA Boiro\",\"mw\":0.145,\"instalaciones_cil\":2}',\n",
       " '{\"municipio\":\"A CORUÑA Boiro\",\"mw\":0.1,\"instalaciones_cil\":1}',\n",
       " '{\"municipio\":\"A CORUÑA Boiro\",\"mw\":0.01,\"instalaciones_cil\":1}',\n",
       " '{\"municipio\":\"A CORUÑA Boiro\",\"mw\":0.004,\"instalaciones_cil\":1}',\n",
       " '{\"municipio\":\"A CORUÑA Camariñas\",\"mw\":0.002,\"instalaciones_cil\":1}',\n",
       " '{\"municipio\":\"A CORUÑA Cambre\",\"mw\":0.005,\"instalaciones_cil\":1}',\n",
       " '{\"municipio\":\"A CORUÑA Cambre\",\"mw\":0.02,\"instalaciones_cil\":1}',\n",
       " '{\"municipio\":\"A CORUÑA Cariño\",\"mw\":0.096,\"instalaciones_cil\":1}',\n",
       " '{\"municipio\":\"A CORUÑA Cerdido\",\"mw\":0.02,\"instalaciones_cil\":1}',\n",
       " '{\"municipio\":\"A CORUÑA Coirós\",\"mw\":0.014,\"instalaciones_cil\":1}',\n",
       " '{\"municipio\":\"A CORUÑA Coirós\",\"mw\":0.006,\"instalaciones_cil\":1}',\n",
       " '{\"municipio\":\"A CORUÑA Coirós\",\"mw\":0.005,\"instalaciones_cil\":1}',\n",
       " '{\"municipio\":\"A CORUÑA Coristanco\",\"mw\":0.005,\"instalaciones_cil\":1}',\n",
       " '{\"municipio\":\"A CORUÑA Coristanco\",\"mw\":0.014,\"instalaciones_cil\":1}',\n",
       " '{\"municipio\":\"A CORUÑA Coruña, A\",\"mw\":0.09,\"instalaciones_cil\":1}',\n",
       " '{\"municipio\":\"A CORUÑA Coruña, A\",\"mw\":0.008,\"instalaciones_cil\":1}',\n",
       " '{\"municipio\":\"A CORUÑA Coruña, A\",\"mw\":0.07,\"instalaciones_cil\":1}',\n",
       " '{\"municipio\":\"A CORUÑA Coruña, A\",\"mw\":0.045,\"instalaciones_cil\":1}',\n",
       " '{\"municipio\":\"A CORUÑA Coruña, A\",\"mw\":0.43,\"instalaciones_cil\":1}',\n",
       " '{\"municipio\":\"A CORUÑA Coruña, A\",\"mw\":0.04,\"instalaciones_cil\":1}',\n",
       " '{\"municipio\":\"A CORUÑA Coruña, A\",\"mw\":0.017,\"instalaciones_cil\":1}',\n",
       " '{\"municipio\":\"A CORUÑA Coruña, A\",\"mw\":0.032,\"instalaciones_cil\":1}',\n",
       " '{\"municipio\":\"A CORUÑA Culleredo\",\"mw\":0.005,\"instalaciones_cil\":1}',\n",
       " '{\"municipio\":\"A CORUÑA Culleredo\",\"mw\":0.07,\"instalaciones_cil\":1}',\n",
       " '{\"municipio\":\"A CORUÑA Dodro\",\"mw\":0.008,\"instalaciones_cil\":1}',\n",
       " '{\"municipio\":\"A CORUÑA Fene\",\"mw\":0.018,\"instalaciones_cil\":1}']"
      ]
     },
     "execution_count": 11,
     "metadata": {},
     "output_type": "execute_result"
    }
   ],
   "source": [
    "url = 'https://a.gusc.cartocdn.com/liquidaciones/api/v1/map/liquidaciones@7d13fb84@6bb560cb9ac70300b0009d5a5092fc6d:1650976279569/2/attributes/'\n",
    "\n",
    "url_list=[]\n",
    "url_content=[]\n",
    "\n",
    "for i in range(100):\n",
    "    url_list.append(url+str(i))\n",
    "\n",
    "url_list\n",
    "\n",
    "for url in url_list:\n",
    "    contenido=req.get(url).text\n",
    "    if 'errors' not in contenido:\n",
    "        url_content.append(contenido)\n",
    "\n",
    "url_content\n",
    "\n",
    "    \n"
   ]
  },
  {
   "cell_type": "code",
   "execution_count": 21,
   "metadata": {},
   "outputs": [
    {
     "name": "stdout",
     "output_type": "stream",
     "text": [
      "[0, 1, 4, 9, 16, 25, 36, 49, 64, 81]\n"
     ]
    }
   ],
   "source": [
    "from multiprocess import Pool\n",
    "def f(x): return x*x\n",
    "\n",
    "p = Pool(6)\n",
    "result = p.map_async(f, range(10))\n",
    "print(result.get(timeout=1))"
   ]
  },
  {
   "cell_type": "code",
   "execution_count": 5,
   "metadata": {},
   "outputs": [
    {
     "data": {
      "text/plain": [
       "8"
      ]
     },
     "execution_count": 5,
     "metadata": {},
     "output_type": "execute_result"
    }
   ],
   "source": [
    "import multiprocessing as mp2\n",
    "\n",
    "pool=mp2.Pool(mp2.cpu_count())\n",
    "\n",
    "mp2.cpu_count()"
   ]
  },
  {
   "cell_type": "code",
   "execution_count": 48,
   "metadata": {},
   "outputs": [
    {
     "name": "stdout",
     "output_type": "stream",
     "text": [
      "CPU times: total: 172 ms\n",
      "Wall time: 12min 57s\n"
     ]
    }
   ],
   "source": [
    "%%time\n",
    "\n",
    "import index_map\n",
    "    \n",
    "long=[i for i in range(25000)]\n",
    "\n",
    "if __name__ ==  '__main__': \n",
    "\n",
    "    p = Pool(6)\n",
    "    result = p.map(index_map.index_map, long)\n",
    "\n",
    "    p.close()"
   ]
  },
  {
   "cell_type": "code",
   "execution_count": 49,
   "metadata": {},
   "outputs": [],
   "source": [
    "result2=result\n",
    "result3=[e for e in result2 if e!=None]  # para limpiar los none\n"
   ]
  },
  {
   "cell_type": "code",
   "execution_count": 50,
   "metadata": {},
   "outputs": [
    {
     "data": {
      "text/html": [
       "<div>\n",
       "<style scoped>\n",
       "    .dataframe tbody tr th:only-of-type {\n",
       "        vertical-align: middle;\n",
       "    }\n",
       "\n",
       "    .dataframe tbody tr th {\n",
       "        vertical-align: top;\n",
       "    }\n",
       "\n",
       "    .dataframe thead th {\n",
       "        text-align: right;\n",
       "    }\n",
       "</style>\n",
       "<table border=\"1\" class=\"dataframe\">\n",
       "  <thead>\n",
       "    <tr style=\"text-align: right;\">\n",
       "      <th></th>\n",
       "      <th>0</th>\n",
       "    </tr>\n",
       "  </thead>\n",
       "  <tbody>\n",
       "    <tr>\n",
       "      <th>0</th>\n",
       "      <td>{\"municipio\":\"A CORUÑA Ares\",\"mw\":0.005,\"insta...</td>\n",
       "    </tr>\n",
       "    <tr>\n",
       "      <th>1</th>\n",
       "      <td>{\"municipio\":\"A CORUÑA Arteixo\",\"mw\":0.015,\"in...</td>\n",
       "    </tr>\n",
       "    <tr>\n",
       "      <th>2</th>\n",
       "      <td>{\"municipio\":\"A CORUÑA Arteixo\",\"mw\":0.024,\"in...</td>\n",
       "    </tr>\n",
       "    <tr>\n",
       "      <th>3</th>\n",
       "      <td>{\"municipio\":\"A CORUÑA Arteixo\",\"mw\":0.1,\"inst...</td>\n",
       "    </tr>\n",
       "    <tr>\n",
       "      <th>4</th>\n",
       "      <td>{\"municipio\":\"A CORUÑA Arteixo\",\"mw\":0.003,\"in...</td>\n",
       "    </tr>\n",
       "  </tbody>\n",
       "</table>\n",
       "</div>"
      ],
      "text/plain": [
       "                                                   0\n",
       "0  {\"municipio\":\"A CORUÑA Ares\",\"mw\":0.005,\"insta...\n",
       "1  {\"municipio\":\"A CORUÑA Arteixo\",\"mw\":0.015,\"in...\n",
       "2  {\"municipio\":\"A CORUÑA Arteixo\",\"mw\":0.024,\"in...\n",
       "3  {\"municipio\":\"A CORUÑA Arteixo\",\"mw\":0.1,\"inst...\n",
       "4  {\"municipio\":\"A CORUÑA Arteixo\",\"mw\":0.003,\"in..."
      ]
     },
     "execution_count": 50,
     "metadata": {},
     "output_type": "execute_result"
    }
   ],
   "source": [
    "data=pd.DataFrame(result3)\n",
    "data.head()"
   ]
  },
  {
   "cell_type": "code",
   "execution_count": 51,
   "metadata": {},
   "outputs": [],
   "source": [
    "data.to_csv('./plantasFV.csv', index=False, sep =',')"
   ]
  },
  {
   "cell_type": "code",
   "execution_count": 156,
   "metadata": {},
   "outputs": [],
   "source": [
    "wind= 'https://www.thewindpower.net/windfarm_en_15000.php'\n",
    "\n",
    "\n",
    "html=req.get(wind).text\n",
    "\n",
    "soup=bs(html, 'html.parser')\n"
   ]
  },
  {
   "cell_type": "code",
   "execution_count": 117,
   "metadata": {},
   "outputs": [
    {
     "data": {
      "text/plain": [
       "['Wind farm name: Werder',\n",
       " 'Country: Germany',\n",
       " 'County / Zone: Mecklenburg-Vorpommern',\n",
       " 'City: Werder',\n",
       " 'Commissioning: ',\n",
       " '3 turbines: Repower ',\n",
       " 'Hub height: ',\n",
       " 'Total nominal power: 1,800 kW',\n",
       " 'Operational',\n",
       " 'Onshore wind farm',\n",
       " 'Developer: WES-IBS',\n",
       " 'Source: ',\n",
       " 'From Saturday, September 03  2022, 02:00 UTC, for the coming 24 hours:',\n",
       " 'Expected load rate: 25.9 %',\n",
       " 'Expected production: 11,180 kWh',\n",
       " 'Values from Weathernews Windcaster solution',\n",
       " 'City: Werder',\n",
       " 'Commissioning: ',\n",
       " '2 turbines: Repower ',\n",
       " 'Hub height: ',\n",
       " 'Total nominal power: 1,200 kW',\n",
       " 'Dismantled (2021/12)',\n",
       " 'Onshore wind farm',\n",
       " 'Developer: WES-IBS',\n",
       " 'City: Werder',\n",
       " 'Commissioning: ',\n",
       " '1 turbine: Enercon E48/800 (power 800 kW, diameter 48 m)',\n",
       " 'Hub height: ',\n",
       " 'Total nominal power: 800 kW',\n",
       " 'Operational',\n",
       " 'Onshore wind farm',\n",
       " 'Operator: SR Wind GmbH',\n",
       " 'From Saturday, September 03  2022, 02:00 UTC, for the coming 24 hours:',\n",
       " 'Expected load rate: 68.2 %',\n",
       " 'Expected production: 13,090 kWh',\n",
       " 'Values from Weathernews Windcaster solution',\n",
       " 'City: Werder',\n",
       " 'Commissioning: ',\n",
       " '1 turbine: Nordex N117/3600 (power 3 600 kW, diameter 117 m)',\n",
       " 'Hub height: ',\n",
       " 'Total nominal power: 3,600 kW',\n",
       " 'Operational',\n",
       " 'Onshore wind farm',\n",
       " 'Latitude: 53Â° 44\\' 27.8\"',\n",
       " 'Longitude: 13Â° 17\\' 6.4\"',\n",
       " 'Geodetic system: WGS84',\n",
       " 'Precise localization: no',\n",
       " 'Latitude: 53Â° 44\\' 27.8\"',\n",
       " 'Longitude: 13Â° 17\\' 6.4\"',\n",
       " 'Geodetic system: WGS84',\n",
       " 'Precise localization: no',\n",
       " 'Latitude: 53Â° 28\\' 4.6\"',\n",
       " 'Longitude: 12Â° 1\\' 28.9\"',\n",
       " 'Geodetic system: WGS84',\n",
       " 'Precise localization: no',\n",
       " 'Latitude: 53Â° 29\\' 24\"',\n",
       " 'Longitude: 11Â° 59\\' 52.7\"',\n",
       " 'Geodetic system: WGS84',\n",
       " 'Precise localization: no']"
      ]
     },
     "execution_count": 117,
     "metadata": {},
     "output_type": "execute_result"
    }
   ],
   "source": [
    "tarjetas=soup.find_all('li', class_='puce_texte')\n",
    "\n",
    "\n",
    "fila=[el.text for el in tarjetas]\n",
    "\n",
    "fila\n"
   ]
  },
  {
   "cell_type": "code",
   "execution_count": 181,
   "metadata": {},
   "outputs": [
    {
     "name": "stdout",
     "output_type": "stream",
     "text": [
      "[0, 1, 4, 9, 16, 25, 36, 49, 64, 81]\n"
     ]
    }
   ],
   "source": [
    "from multiprocess import Pool\n",
    "def f(x): return x*x\n",
    "\n",
    "p = Pool(6)\n",
    "result = p.map_async(f, range(10))\n",
    "print(result.get(timeout=1))"
   ]
  },
  {
   "cell_type": "code",
   "execution_count": 182,
   "metadata": {},
   "outputs": [
    {
     "data": {
      "text/plain": [
       "8"
      ]
     },
     "execution_count": 182,
     "metadata": {},
     "output_type": "execute_result"
    }
   ],
   "source": [
    "import multiprocessing as mp2\n",
    "\n",
    "pool=mp2.Pool(mp2.cpu_count())\n",
    "\n",
    "mp2.cpu_count()"
   ]
  },
  {
   "cell_type": "code",
   "execution_count": 189,
   "metadata": {},
   "outputs": [
    {
     "name": "stdout",
     "output_type": "stream",
     "text": [
      "CPU times: total: 78.1 ms\n",
      "Wall time: 2min 8s\n"
     ]
    }
   ],
   "source": [
    "%%time\n",
    "\n",
    "import bs_wind\n",
    "    \n",
    "long=[i for i in range(100)]\n",
    "\n",
    "if __name__ ==  '__main__': \n",
    "\n",
    "    p = Pool(6)\n",
    "    result = p.map(bs_wind.bs_wind, long)\n",
    "\n",
    "    p.close()"
   ]
  },
  {
   "cell_type": "code",
   "execution_count": 188,
   "metadata": {},
   "outputs": [
    {
     "data": {
      "text/plain": [
       "['Wind farm name: Côtes de Champagne',\n",
       " 'Country: France',\n",
       " 'County / Zone: 51 (Grand Est)',\n",
       " 'City: Saint-Amand-sur-Fion, Bassu, Lisse-en-Champgagne',\n",
       " 'Commissioning: ',\n",
       " '12 turbines: Gamesa G58/850 (power 850 kW, diameter 58 m)',\n",
       " 'Hub height: ',\n",
       " 'Total nominal power: 10,200 kW',\n",
       " 'Operational',\n",
       " 'Onshore wind farm',\n",
       " 'Developer: SFE Française d’Eoliennes',\n",
       " 'Operator: Renvico',\n",
       " 'Owner: ',\n",
       " 'Source: ',\n",
       " 'From Saturday, September 03  2022, 02:00 UTC, for the coming 24 hours:',\n",
       " 'Expected load rate: 6.4 %',\n",
       " 'Expected production: 15,670 kWh',\n",
       " 'Values from Weathernews Windcaster solution',\n",
       " 'City: Saint-Amand-sur-Fion, Bassu, Lisse-en-Champgagne',\n",
       " 'Commissioning: ',\n",
       " '2 turbines: Gamesa G58/850 (power 850 kW, diameter 58 m)',\n",
       " 'Hub height: ',\n",
       " 'Total nominal power: 1,700 kW',\n",
       " 'Operational',\n",
       " 'Onshore wind farm',\n",
       " 'Developer: SFE Française d’Eoliennes',\n",
       " 'Operator: Renvico',\n",
       " 'Owner: ',\n",
       " 'Source: ',\n",
       " 'From Saturday, September 03  2022, 02:00 UTC, for the coming 24 hours:',\n",
       " 'Expected load rate: 6.4 %',\n",
       " 'Expected production: 2,610 kWh',\n",
       " 'Values from Weathernews Windcaster solution',\n",
       " 'Latitude: 48° 50\\' 10\"',\n",
       " 'Longitude: 4° 39\\' 38.1\"',\n",
       " 'Geodetic system: WGS84',\n",
       " 'Precise location: yes',\n",
       " 'Google Maps view',\n",
       " 'Latitude: 48° 50\\' 10\"',\n",
       " 'Longitude: 4° 39\\' 38.1\"',\n",
       " 'Geodetic system: WGS84',\n",
       " 'Precise location: yes',\n",
       " 'Google Maps view']"
      ]
     },
     "execution_count": 188,
     "metadata": {},
     "output_type": "execute_result"
    }
   ],
   "source": [
    "result[5]"
   ]
  }
 ],
 "metadata": {
  "kernelspec": {
   "display_name": "Python 3.10.4 ('Ironhack')",
   "language": "python",
   "name": "python3"
  },
  "language_info": {
   "codemirror_mode": {
    "name": "ipython",
    "version": 3
   },
   "file_extension": ".py",
   "mimetype": "text/x-python",
   "name": "python",
   "nbconvert_exporter": "python",
   "pygments_lexer": "ipython3",
   "version": "3.10.4"
  },
  "orig_nbformat": 4,
  "vscode": {
   "interpreter": {
    "hash": "e1b5cc2ca82549cf8bbdcbea1bc7bb57ea15a02dc60f2ae6fb07bfbe7cef552e"
   }
  }
 },
 "nbformat": 4,
 "nbformat_minor": 2
}
