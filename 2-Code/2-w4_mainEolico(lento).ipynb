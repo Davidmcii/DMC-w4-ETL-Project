{
 "cells": [
  {
   "cell_type": "code",
   "execution_count": 1,
   "metadata": {},
   "outputs": [],
   "source": [
    "import time\n",
    "import warnings \n",
    "warnings.filterwarnings('ignore')"
   ]
  },
  {
   "cell_type": "code",
   "execution_count": 29,
   "metadata": {},
   "outputs": [],
   "source": [
    "\n",
    "import requests as req\n",
    "from bs4 import BeautifulSoup as bs\n",
    "import pandas as pd"
   ]
  },
  {
   "cell_type": "code",
   "execution_count": 156,
   "metadata": {},
   "outputs": [],
   "source": [
    "wind= 'https://www.thewindpower.net/windfarm_en_15000.php'\n",
    "\n",
    "\n",
    "html=req.get(wind).text\n",
    "\n",
    "soup=bs(html, 'html.parser')\n"
   ]
  },
  {
   "cell_type": "code",
   "execution_count": 117,
   "metadata": {},
   "outputs": [
    {
     "data": {
      "text/plain": [
       "['Wind farm name: Werder',\n",
       " 'Country: Germany',\n",
       " 'County / Zone: Mecklenburg-Vorpommern',\n",
       " 'City: Werder',\n",
       " 'Commissioning: ',\n",
       " '3 turbines: Repower ',\n",
       " 'Hub height: ',\n",
       " 'Total nominal power: 1,800 kW',\n",
       " 'Operational',\n",
       " 'Onshore wind farm',\n",
       " 'Developer: WES-IBS',\n",
       " 'Source: ',\n",
       " 'From Saturday, September 03  2022, 02:00 UTC, for the coming 24 hours:',\n",
       " 'Expected load rate: 25.9 %',\n",
       " 'Expected production: 11,180 kWh',\n",
       " 'Values from Weathernews Windcaster solution',\n",
       " 'City: Werder',\n",
       " 'Commissioning: ',\n",
       " '2 turbines: Repower ',\n",
       " 'Hub height: ',\n",
       " 'Total nominal power: 1,200 kW',\n",
       " 'Dismantled (2021/12)',\n",
       " 'Onshore wind farm',\n",
       " 'Developer: WES-IBS',\n",
       " 'City: Werder',\n",
       " 'Commissioning: ',\n",
       " '1 turbine: Enercon E48/800 (power 800 kW, diameter 48 m)',\n",
       " 'Hub height: ',\n",
       " 'Total nominal power: 800 kW',\n",
       " 'Operational',\n",
       " 'Onshore wind farm',\n",
       " 'Operator: SR Wind GmbH',\n",
       " 'From Saturday, September 03  2022, 02:00 UTC, for the coming 24 hours:',\n",
       " 'Expected load rate: 68.2 %',\n",
       " 'Expected production: 13,090 kWh',\n",
       " 'Values from Weathernews Windcaster solution',\n",
       " 'City: Werder',\n",
       " 'Commissioning: ',\n",
       " '1 turbine: Nordex N117/3600 (power 3 600 kW, diameter 117 m)',\n",
       " 'Hub height: ',\n",
       " 'Total nominal power: 3,600 kW',\n",
       " 'Operational',\n",
       " 'Onshore wind farm',\n",
       " 'Latitude: 53Â° 44\\' 27.8\"',\n",
       " 'Longitude: 13Â° 17\\' 6.4\"',\n",
       " 'Geodetic system: WGS84',\n",
       " 'Precise localization: no',\n",
       " 'Latitude: 53Â° 44\\' 27.8\"',\n",
       " 'Longitude: 13Â° 17\\' 6.4\"',\n",
       " 'Geodetic system: WGS84',\n",
       " 'Precise localization: no',\n",
       " 'Latitude: 53Â° 28\\' 4.6\"',\n",
       " 'Longitude: 12Â° 1\\' 28.9\"',\n",
       " 'Geodetic system: WGS84',\n",
       " 'Precise localization: no',\n",
       " 'Latitude: 53Â° 29\\' 24\"',\n",
       " 'Longitude: 11Â° 59\\' 52.7\"',\n",
       " 'Geodetic system: WGS84',\n",
       " 'Precise localization: no']"
      ]
     },
     "execution_count": 117,
     "metadata": {},
     "output_type": "execute_result"
    }
   ],
   "source": [
    "tarjetas=soup.find_all('li', class_='puce_texte')\n",
    "\n",
    "\n",
    "fila=[el.text for el in tarjetas]\n",
    "\n",
    "fila\n"
   ]
  },
  {
   "cell_type": "code",
   "execution_count": 181,
   "metadata": {},
   "outputs": [
    {
     "name": "stdout",
     "output_type": "stream",
     "text": [
      "[0, 1, 4, 9, 16, 25, 36, 49, 64, 81]\n"
     ]
    }
   ],
   "source": [
    "from multiprocess import Pool\n",
    "def f(x): return x*x\n",
    "\n",
    "p = Pool(6)\n",
    "result = p.map_async(f, range(10))\n",
    "print(result.get(timeout=1))"
   ]
  },
  {
   "cell_type": "code",
   "execution_count": 182,
   "metadata": {},
   "outputs": [
    {
     "data": {
      "text/plain": [
       "8"
      ]
     },
     "execution_count": 182,
     "metadata": {},
     "output_type": "execute_result"
    }
   ],
   "source": [
    "import multiprocessing as mp2\n",
    "\n",
    "pool=mp2.Pool(mp2.cpu_count())\n",
    "\n",
    "mp2.cpu_count()"
   ]
  },
  {
   "cell_type": "code",
   "execution_count": 189,
   "metadata": {},
   "outputs": [
    {
     "name": "stdout",
     "output_type": "stream",
     "text": [
      "CPU times: total: 78.1 ms\n",
      "Wall time: 2min 8s\n"
     ]
    }
   ],
   "source": [
    "%%time\n",
    "\n",
    "import bs_wind\n",
    "    \n",
    "long=[i for i in range(100)]\n",
    "\n",
    "if __name__ ==  '__main__': \n",
    "\n",
    "    p = Pool(6)\n",
    "    result = p.map(bs_wind.bs_wind, long)\n",
    "\n",
    "    p.close()"
   ]
  }
 ],
 "metadata": {
  "kernelspec": {
   "display_name": "Python 3.10.4 ('Ironhack')",
   "language": "python",
   "name": "python3"
  },
  "language_info": {
   "codemirror_mode": {
    "name": "ipython",
    "version": 3
   },
   "file_extension": ".py",
   "mimetype": "text/x-python",
   "name": "python",
   "nbconvert_exporter": "python",
   "pygments_lexer": "ipython3",
   "version": "3.10.4"
  },
  "orig_nbformat": 4,
  "vscode": {
   "interpreter": {
    "hash": "e1b5cc2ca82549cf8bbdcbea1bc7bb57ea15a02dc60f2ae6fb07bfbe7cef552e"
   }
  }
 },
 "nbformat": 4,
 "nbformat_minor": 2
}
